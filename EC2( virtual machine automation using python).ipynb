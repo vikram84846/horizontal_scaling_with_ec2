{
 "cells": [
  {
   "cell_type": "code",
   "execution_count": 1,
   "id": "ca9d79b0",
   "metadata": {},
   "outputs": [],
   "source": [
    "import boto3 "
   ]
  },
  {
   "cell_type": "code",
   "execution_count": 2,
   "id": "3d6702ac",
   "metadata": {},
   "outputs": [],
   "source": [
    "ec2_client =  boto3.client(\"ec2\")"
   ]
  },
  {
   "cell_type": "code",
   "execution_count": 3,
   "id": "9eddb5c9",
   "metadata": {},
   "outputs": [],
   "source": [
    "ec2_resource = boto3.resource(\"ec2\")"
   ]
  },
  {
   "cell_type": "code",
   "execution_count": 5,
   "id": "e22b1807",
   "metadata": {},
   "outputs": [],
   "source": [
    " instance_list = list()"
   ]
  },
  {
   "cell_type": "code",
   "execution_count": 6,
   "id": "1c6c41ed",
   "metadata": {},
   "outputs": [],
   "source": [
    "def create_ec2_vm():\n",
    "        global instance_list \n",
    "        instanceId = ec2_resource.create_instances(\n",
    "            ImageId=\"ami-0fd05997b4dff7aac\",\n",
    "            InstanceType=\"t2.micro\", \n",
    "            MaxCount= 1, \n",
    "            MinCount= 1, )\n",
    "        instance_list.append(instanceId)\n",
    "        return instanceId"
   ]
  },
  {
   "cell_type": "code",
   "execution_count": 7,
   "id": "efeef73d",
   "metadata": {},
   "outputs": [
    {
     "data": {
      "text/plain": [
       "[ec2.Instance(id='i-0fc61c752a1c62d6e')]"
      ]
     },
     "execution_count": 7,
     "metadata": {},
     "output_type": "execute_result"
    }
   ],
   "source": [
    "create_ec2_vm()"
   ]
  },
  {
   "cell_type": "code",
   "execution_count": 8,
   "id": "14218042",
   "metadata": {},
   "outputs": [
    {
     "data": {
      "text/plain": [
       "[[ec2.Instance(id='i-0fc61c752a1c62d6e')]]"
      ]
     },
     "execution_count": 8,
     "metadata": {},
     "output_type": "execute_result"
    }
   ],
   "source": [
    "instance_list"
   ]
  },
  {
   "cell_type": "code",
   "execution_count": 9,
   "id": "04720a06",
   "metadata": {},
   "outputs": [
    {
     "data": {
      "text/plain": [
       "[ec2.Instance(id='i-0fc61c752a1c62d6e')]"
      ]
     },
     "execution_count": 9,
     "metadata": {},
     "output_type": "execute_result"
    }
   ],
   "source": [
    "instance_list[0]"
   ]
  },
  {
   "cell_type": "code",
   "execution_count": 10,
   "id": "d32472ee",
   "metadata": {},
   "outputs": [
    {
     "data": {
      "text/plain": [
       "'i-0fc61c752a1c62d6e'"
      ]
     },
     "execution_count": 10,
     "metadata": {},
     "output_type": "execute_result"
    }
   ],
   "source": [
    "instance_list[0][0].id"
   ]
  },
  {
   "cell_type": "code",
   "execution_count": 14,
   "id": "bbf6f1e8",
   "metadata": {},
   "outputs": [],
   "source": [
    "def delete_instance():\n",
    "    instance_id = instance_list.pop()[0].id\n",
    "    ec2_client.terminate_instances(InstanceIds=[instance_id])\n",
    "    return (f\"instance with id {instance_id} is deleted\")"
   ]
  },
  {
   "cell_type": "code",
   "execution_count": 12,
   "id": "5c7dbaaf",
   "metadata": {},
   "outputs": [],
   "source": [
    "delete_instance()"
   ]
  },
  {
   "cell_type": "code",
   "execution_count": 13,
   "id": "0a3f40f0",
   "metadata": {},
   "outputs": [
    {
     "data": {
      "text/plain": [
       "[]"
      ]
     },
     "execution_count": 13,
     "metadata": {},
     "output_type": "execute_result"
    }
   ],
   "source": [
    "instance_list"
   ]
  },
  {
   "cell_type": "code",
   "execution_count": null,
   "id": "1f44e679",
   "metadata": {},
   "outputs": [],
   "source": []
  }
 ],
 "metadata": {
  "kernelspec": {
   "display_name": "Python 3 (ipykernel)",
   "language": "python",
   "name": "python3"
  },
  "language_info": {
   "codemirror_mode": {
    "name": "ipython",
    "version": 3
   },
   "file_extension": ".py",
   "mimetype": "text/x-python",
   "name": "python",
   "nbconvert_exporter": "python",
   "pygments_lexer": "ipython3",
   "version": "3.10.9"
  }
 },
 "nbformat": 4,
 "nbformat_minor": 5
}
